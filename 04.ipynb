{
 "cells": [
  {
   "cell_type": "code",
   "execution_count": 1,
   "metadata": {},
   "outputs": [],
   "source": [
    "!curl  https://adventofcode.com/2021/day/4/input --silent --show-error --cookie session=(cat .session_token) --output inputs/04.txt"
   ]
  },
  {
   "cell_type": "markdown",
   "metadata": {},
   "source": [
    "# Day 4: Giant Squid\n",
    "\n",
    "You're already almost 1.5km (almost a mile) below the surface of the ocean, already so deep that you can't see any sunlight. What you can see, however, is a giant squid that has attached itself to the outside of your submarine.\n",
    "\n",
    "Maybe it wants to play bingo?\n",
    "\n",
    "Bingo is played on a set of boards each consisting of a 5x5 grid of numbers. Numbers are chosen at random, and the chosen number is marked on all boards on which it appears. (Numbers may not appear on all boards.) If all numbers in any row or any column of a board are marked, that board wins. (Diagonals don't count.)\n",
    "\n",
    "The submarine has a bingo subsystem to help passengers (currently, you and the giant squid) pass the time. It automatically generates a random order in which to draw numbers and a random set of boards (your puzzle input). For example:\n",
    "```\n",
    "7,4,9,5,11,17,23,2,0,14,21,24,10,16,13,6,15,25,12,22,18,20,8,19,3,26,1\n",
    "```\n",
    "\n",
    "```\n",
    "22 13 17 11  0\n",
    " 8  2 23  4 24\n",
    "21  9 14 16  7\n",
    " 6 10  3 18  5\n",
    " 1 12 20 15 19\n",
    "\n",
    " 3 15  0  2 22\n",
    " 9 18 13 17  5\n",
    "19  8  7 25 23\n",
    "20 11 10 24  4\n",
    "14 21 16 12  6\n",
    "\n",
    "14 21 17 24  4\n",
    "10 16 15  9 19\n",
    "18  8 23 26 20\n",
    "22 11 13  6  5\n",
    " 2  0 12  3  7\n",
    " ```\n",
    "After the first five numbers are drawn (`7, 4, 9, 5,` and `11`), there are no winners, but the boards are marked as follows (shown here adjacent to each other to save space):\n",
    "```\n",
    "22 13 17 11  0         3 15  0  2 22        14 21 17 24  4\n",
    " 8  2 23  4 24         9 18 13 17  5        10 16 15  9 19\n",
    "21  9 14 16  7        19  8  7 25 23        18  8 23 26 20\n",
    " 6 10  3 18  5        20 11 10 24  4        22 11 13  6  5\n",
    " 1 12 20 15 19        14 21 16 12  6         2  0 12  3  7\n",
    " ```\n",
    "After the next six numbers are drawn (`17, 23, 2, 0, 14,` and `21`), there are still no winners:\n",
    "```\n",
    "22 13 17 11  0         3 15  0  2 22        14 21 17 24  4\n",
    " 8  2 23  4 24         9 18 13 17  5        10 16 15  9 19\n",
    "21  9 14 16  7        19  8  7 25 23        18  8 23 26 20\n",
    " 6 10  3 18  5        20 11 10 24  4        22 11 13  6  5\n",
    " 1 12 20 15 19        14 21 16 12  6         2  0 12  3  7\n",
    " ```\n",
    "Finally, `24` is drawn:\n",
    "```\n",
    "22 13 17 11  0         3 15  0  2 22        14 21 17 24  4\n",
    " 8  2 23  4 24         9 18 13 17  5        10 16 15  9 19\n",
    "21  9 14 16  7        19  8  7 25 23        18  8 23 26 20\n",
    " 6 10  3 18  5        20 11 10 24  4        22 11 13  6  5\n",
    " 1 12 20 15 19        14 21 16 12  6         2  0 12  3  7\n",
    " ```\n",
    "At this point, the third board wins because it has at least one complete row or column of marked numbers (in this case, the entire top row is marked: `14 21 17 24 4`).\n",
    "\n",
    "The score of the winning board can now be calculated. Start by finding the sum of all unmarked numbers on that board; in this case, the sum is 188. Then, multiply that sum by the number that was just called when the board won, `24`, to get the final score, `188 * 24 = 4512`.\n",
    "\n",
    "To guarantee victory against the giant squid, figure out which board will win first. What will your final score be if you choose that board?\n",
    "\n"
   ]
  },
  {
   "cell_type": "code",
   "execution_count": 24,
   "metadata": {},
   "outputs": [],
   "source": [
    "from copy import deepcopy\n",
    "BLOCK_SIZE = (5, 5)\n",
    "\n",
    "with open(\"inputs/04.txt\") as infile:\n",
    "    # first line is \n",
    "    random_numbers = [int(x) for x in infile.readline().split(\",\")]\n",
    "\n",
    "    blocks = []\n",
    "    while blockline := infile.readline():\n",
    "        if blockline == \"\\n\":\n",
    "            # start of a new block\n",
    "            blocks.append([])\n",
    "        else:\n",
    "            blocks[-1].append([int(x) for x in blockline.split()])"
   ]
  },
  {
   "cell_type": "code",
   "execution_count": 26,
   "metadata": {},
   "outputs": [
    {
     "name": "stdout",
     "output_type": "stream",
     "text": [
      "sum(remaining_numbers) * drawn_number=10680\n"
     ]
    }
   ],
   "source": [
    "# make a copy before modifying the boards\n",
    "blocks_copy = deepcopy(blocks)\n",
    "\n",
    "def block_won(block):\n",
    "    for line_num in range(BLOCK_SIZE[0]):\n",
    "        if block[line_num].count(\"X\") == BLOCK_SIZE[0]:\n",
    "            return True\n",
    "\n",
    "    for col_num in range(BLOCK_SIZE[1]):\n",
    "        row_contents = []\n",
    "        for line_num in range(BLOCK_SIZE[0]):\n",
    "            row_contents.append(block[line_num][col_num])\n",
    "        if row_contents.count(\"X\") == BLOCK_SIZE[1]:\n",
    "            return True\n",
    "\n",
    "    return False\n",
    "\n",
    "for drawn_number in random_numbers:\n",
    "    for block_id, _ in enumerate(blocks):\n",
    "        for line_num in range(BLOCK_SIZE[0]):\n",
    "            updated_line = [x if x != drawn_number else \"X\" for x in blocks_copy[block_id][line_num]]\n",
    "            blocks_copy[block_id][line_num] = updated_line\n",
    "\n",
    "        if block_won(blocks_copy[block_id]):\n",
    "            winning_block_id = block_id\n",
    "            break\n",
    "    else:\n",
    "        continue\n",
    "    break\n",
    "else:\n",
    "    raise AssertionError(\"No block won\")\n",
    "\n",
    "winning_block = blocks_copy[winning_block_id]\n",
    "remaining_numbers = [x for row in winning_block for x in row if x != \"X\"]\n",
    "print(f\"{sum(remaining_numbers) * drawn_number=}\")"
   ]
  },
  {
   "cell_type": "markdown",
   "metadata": {},
   "source": [
    "# Part 2\n",
    "On the other hand, it might be wise to try a different strategy: let the giant squid win.\n",
    "\n",
    "You aren't sure how many bingo boards a giant squid could play at once, so rather than waste time counting its arms, the safe thing to do is to figure out which board will win last and choose that one. That way, no matter which boards it picks, it will win for sure.\n",
    "\n",
    "In the above example, the second board is the last to win, which happens after 13 is eventually called and its middle column is completely marked. If you were to keep playing until this point, the second board would have a sum of unmarked numbers equal to 148 for a final score of $148 * 13 = 1924$.\n",
    "\n",
    "Figure out which board will win last. Once it wins, what would its final score be?"
   ]
  },
  {
   "cell_type": "code",
   "execution_count": 40,
   "metadata": {},
   "outputs": [
    {
     "name": "stdout",
     "output_type": "stream",
     "text": [
      "sum(remaining_numbers) * drawn_number=31892\n"
     ]
    }
   ],
   "source": [
    "# make a copy before modifying the boards\n",
    "blocks_copy = deepcopy(blocks)\n",
    "\n",
    "for drawn_number in random_numbers:\n",
    "    blocks_won_this_round = []\n",
    "    for block_id, _ in enumerate(blocks_copy):\n",
    "        for line_num in range(BLOCK_SIZE[0]):\n",
    "            updated_line = [x if x != drawn_number else \"X\" for x in blocks_copy[block_id][line_num]]\n",
    "            blocks_copy[block_id][line_num] = updated_line\n",
    "\n",
    "        if block_won(blocks_copy[block_id]):\n",
    "            blocks_won_this_round.append(block_id)\n",
    "\n",
    "    # make sure we remove the indices in reverse order to\n",
    "    # not change any ids of the higher blocks before we removed them\n",
    "    for block_id in sorted(blocks_won_this_round, reverse=True):\n",
    "        if len(blocks_copy) == 1:\n",
    "            break\n",
    "        blocks_copy.pop(block_id)\n",
    "    else:\n",
    "        continue\n",
    "    break\n",
    "else:\n",
    "    raise AssertionError(\"No last block found\")\n",
    "\n",
    "winning_block = blocks_copy[0]\n",
    "remaining_numbers = [x for row in winning_block for x in row if x != \"X\"]\n",
    "print(f\"{sum(remaining_numbers) * drawn_number=}\")"
   ]
  },
  {
   "cell_type": "code",
   "execution_count": null,
   "metadata": {},
   "outputs": [],
   "source": []
  }
 ],
 "metadata": {
  "interpreter": {
   "hash": "602cc44c720280de6ad960285487576d757069bc0469b06cbaec6e4918638c28"
  },
  "kernelspec": {
   "display_name": "Python 3.10.0 64-bit ('3.10.0': pyenv)",
   "language": "python",
   "name": "python3"
  },
  "language_info": {
   "codemirror_mode": {
    "name": "ipython",
    "version": 3
   },
   "file_extension": ".py",
   "mimetype": "text/x-python",
   "name": "python",
   "nbconvert_exporter": "python",
   "pygments_lexer": "ipython3",
   "version": "3.10.0"
  },
  "orig_nbformat": 4
 },
 "nbformat": 4,
 "nbformat_minor": 2
}

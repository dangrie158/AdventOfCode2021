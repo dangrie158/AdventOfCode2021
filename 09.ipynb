{
 "cells": [
  {
   "cell_type": "code",
   "execution_count": 1,
   "metadata": {},
   "outputs": [],
   "source": [
    "!curl  https://adventofcode.com/2021/day/9/input --silent --show-error --cookie session=(cat .session_token) --output inputs/09.txt"
   ]
  },
  {
   "cell_type": "markdown",
   "metadata": {},
   "source": [
    "# Day 9: Smoke Basin\n",
    "\n",
    "These caves seem to be lava tubes. Parts are even still volcanically active; small hydrothermal vents release smoke into the caves that slowly settles like rain.\n",
    "\n",
    "If you can model how the smoke flows through the caves, you might be able to avoid it and be that much safer. The submarine generates a heightmap of the floor of the nearby caves for you (your puzzle input).\n",
    "\n",
    "Smoke flows to the lowest point of the area it's in. For example, consider the following heightmap:\n",
    "```\n",
    "2199943210\n",
    "3987894921\n",
    "9856789892\n",
    "8767896789\n",
    "9899965678\n",
    "```\n",
    "Each number corresponds to the height of a particular location, where 9 is the highest and 0 is the lowest a location can be.\n",
    "\n",
    "Your first goal is to find the low points - the locations that are lower than any of its adjacent locations. Most locations have four adjacent locations (up, down, left, and right); locations on the edge or corner of the map have three or two adjacent locations, respectively. (Diagonal locations do not count as adjacent.)\n",
    "\n",
    "In the above example, there are four low points, all highlighted: two are in the first row (a 1 and a 0), one is in the third row (a 5), and one is in the bottom row (also a 5). All other locations on the heightmap have some lower adjacent location, and so are not low points.\n",
    "\n",
    "The risk level of a low point is 1 plus its height. In the above example, the risk levels of the low points are 2, 1, 6, and 6. The sum of the risk levels of all low points in the heightmap is therefore 15.\n",
    "\n",
    "Find all of the low points on your heightmap. What is the sum of the risk levels of all low points on your heightmap?"
   ]
  },
  {
   "cell_type": "code",
   "execution_count": 2,
   "metadata": {},
   "outputs": [],
   "source": [
    "import numpy as np"
   ]
  },
  {
   "cell_type": "code",
   "execution_count": 34,
   "metadata": {},
   "outputs": [],
   "source": [
    "with open(\"inputs/09.txt\") as infile:\n",
    "    heightmap = np.asarray([[int(x) for x in line] for line in infile.read().splitlines()], dtype=np.int8)\n",
    "\n",
    "#     test=\"\"\"2199943210\n",
    "# 3987894921\n",
    "# 9856789892\n",
    "# 8767896789\n",
    "# 9899965678\"\"\"\n",
    "\n",
    "#     heightmap = np.asarray([[int(x) for x in line] for line in test.splitlines()], dtype=np.int8)"
   ]
  },
  {
   "cell_type": "code",
   "execution_count": 36,
   "metadata": {},
   "outputs": [
    {
     "name": "stdout",
     "output_type": "stream",
     "text": [
      "np.sum(risk_levels)=564\n"
     ]
    }
   ],
   "source": [
    "padded_heightmap = np.pad(heightmap, 1, constant_values=100)\n",
    "windows = np.lib.stride_tricks.sliding_window_view(padded_heightmap, (3, 3))\n",
    "\n",
    "# we can add this mask to any window to offset all values we're not interested in\n",
    "# since the maximum value of the heightmap is 10, by setting the center and diagonal \n",
    "# values to a value >> 10 we make sure they are not considered when we find the minimum \n",
    "# number in the surrounding fields \n",
    "adjacency_mask =  [[100, 0, 100], [0, 100, 0], [100, 0, 100]]\n",
    "lowest_adjacent = np.min(windows + adjacency_mask, axis=(2, 3))\n",
    "centers = windows[:, :, 1, 1]\n",
    "low_point_coords = np.where(centers < lowest_adjacent)\n",
    "low_points = centers[low_point_coords]\n",
    "risk_levels = low_points + 1\n",
    "print(f\"{np.sum(risk_levels)=}\")\n"
   ]
  },
  {
   "cell_type": "markdown",
   "metadata": {},
   "source": [
    "# Part Two\n",
    "\n",
    "Next, you need to find the largest basins so you know what areas are most important to avoid.\n",
    "\n",
    "A basin is all locations that eventually flow downward to a single low point. Therefore, every low point has a basin, although some basins are very small. Locations of height 9 do not count as being in any basin, and all other locations will always be part of exactly one basin.\n",
    "\n",
    "The size of a basin is the number of locations within the basin, including the low point. The example above has four basins.\n",
    "\n",
    "The top-left basin, size 3:\n",
    "```\n",
    "2199943210\n",
    "3987894921\n",
    "9856789892\n",
    "8767896789\n",
    "9899965678\n",
    "```\n",
    "The top-right basin, size 9:\n",
    "```\n",
    "2199943210\n",
    "3987894921\n",
    "9856789892\n",
    "8767896789\n",
    "9899965678\n",
    "```\n",
    "The middle basin, size 14:\n",
    "```\n",
    "2199943210\n",
    "3987894921\n",
    "9856789892\n",
    "8767896789\n",
    "9899965678\n",
    "```\n",
    "The bottom-right basin, size 9:\n",
    "```\n",
    "2199943210\n",
    "3987894921\n",
    "9856789892\n",
    "8767896789\n",
    "9899965678\n",
    "```\n",
    "Find the three largest basins and multiply their sizes together. In the above example, this is 9 * 14 * 9 = 1134.\n",
    "\n",
    "What do you get if you multiply together the sizes of the three largest basins?"
   ]
  },
  {
   "cell_type": "code",
   "execution_count": 53,
   "metadata": {},
   "outputs": [
    {
     "name": "stdout",
     "output_type": "stream",
     "text": [
      "np.product(three_largest_basins)=1038240\n"
     ]
    }
   ],
   "source": [
    "BASIN_MARGIN = 9\n",
    "BASIN_FILL = 10\n",
    "\n",
    "basin_map = np.pad(heightmap, 1, constant_values=BASIN_FILL)\n",
    "\n",
    "def fill_basin_points(center_x, center_y):\n",
    "    num_points_in_basin = 0\n",
    "    if basin_map[center_x][center_y] in (BASIN_MARGIN, BASIN_FILL):\n",
    "        return 0\n",
    "    \n",
    "    basin_map[center_x][center_y] = BASIN_FILL\n",
    "    num_points_in_basin += 1\n",
    "    num_points_in_basin += fill_basin_points(center_x - 1, center_y)\n",
    "    num_points_in_basin += fill_basin_points(center_x + 1, center_y)\n",
    "    num_points_in_basin += fill_basin_points(center_x, center_y - 1)\n",
    "    num_points_in_basin += fill_basin_points(center_x, center_y + 1)\n",
    "\n",
    "    return num_points_in_basin\n",
    "\n",
    "basin_sizes = []\n",
    "for x, y in zip(*low_point_coords):\n",
    "    basin_size = fill_basin_points(x, y)\n",
    "    basin_sizes.append(basin_size)\n",
    "\n",
    "basin_sizes.sort(reverse=True)\n",
    "three_largest_basins = basin_sizes[:3]\n",
    "print(f\"{np.product(three_largest_basins)=}\")"
   ]
  },
  {
   "cell_type": "markdown",
   "metadata": {},
   "source": []
  }
 ],
 "metadata": {
  "interpreter": {
   "hash": "602cc44c720280de6ad960285487576d757069bc0469b06cbaec6e4918638c28"
  },
  "kernelspec": {
   "display_name": "Python 3.10.0 64-bit ('3.10.0': pyenv)",
   "language": "python",
   "name": "python3"
  },
  "language_info": {
   "codemirror_mode": {
    "name": "ipython",
    "version": 3
   },
   "file_extension": ".py",
   "mimetype": "text/x-python",
   "name": "python",
   "nbconvert_exporter": "python",
   "pygments_lexer": "ipython3",
   "version": "3.10.0"
  },
  "orig_nbformat": 4
 },
 "nbformat": 4,
 "nbformat_minor": 2
}

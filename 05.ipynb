{
 "cells": [
  {
   "cell_type": "code",
   "execution_count": 12,
   "metadata": {},
   "outputs": [],
   "source": [
    "!curl  https://adventofcode.com/2021/day/5/input --silent --show-error --cookie session=(cat .session_token) --output inputs/05.txt"
   ]
  },
  {
   "cell_type": "markdown",
   "metadata": {},
   "source": [
    "# Day 5: Hydrothermal Venture\n",
    "\n",
    "You come across a field of hydrothermal vents on the ocean floor! These vents constantly produce large, opaque clouds, so it would be best to avoid them if possible.\n",
    "\n",
    "They tend to form in lines; the submarine helpfully produces a list of nearby lines of vents (your puzzle input) for you to review. For example:\n",
    "```\n",
    "0,9 -> 5,9\n",
    "8,0 -> 0,8\n",
    "9,4 -> 3,4\n",
    "2,2 -> 2,1\n",
    "7,0 -> 7,4\n",
    "6,4 -> 2,0\n",
    "0,9 -> 2,9\n",
    "3,4 -> 1,4\n",
    "0,0 -> 8,8\n",
    "5,5 -> 8,2\n",
    "```\n",
    "Each line of vents is given as a line segment in the format x1,y1 -> x2,y2 where x1,y1 are the coordinates of one end the line segment and x2,y2 are the coordinates of the other end. These line segments include the points at both ends. In other words:\n",
    "\n",
    "An entry like 1,1 -> 1,3 covers points 1,1, 1,2, and 1,3.\n",
    "An entry like 9,7 -> 7,7 covers points 9,7, 8,7, and 7,7.\n",
    "For now, only consider horizontal and vertical lines: lines where either x1 = x2 or y1 = y2.\n",
    "\n",
    "So, the horizontal and vertical lines from the above list would produce the following diagram:\n",
    "```\n",
    ".......1..\n",
    "..1....1..\n",
    "..1....1..\n",
    ".......1..\n",
    ".112111211\n",
    "..........\n",
    "..........\n",
    "..........\n",
    "..........\n",
    "222111....\n",
    "```\n",
    "In this diagram, the top left corner is 0,0 and the bottom right corner is 9,9. Each position is shown as the number of lines which cover that point or . if no line covers that point. The top-left pair of 1s, for example, comes from 2,2 -> 2,1; the very bottom row is formed by the overlapping lines 0,9 -> 5,9 and 0,9 -> 2,9.\n",
    "\n",
    "To avoid the most dangerous areas, you need to determine the number of points where at least two lines overlap. In the above example, this is anywhere in the diagram with a 2 or larger - a total of 5 points.\n",
    "\n",
    "Consider only horizontal and vertical lines. At how many points do at least two lines overlap?\n",
    "\n"
   ]
  },
  {
   "cell_type": "code",
   "execution_count": 2,
   "metadata": {},
   "outputs": [],
   "source": [
    "lines = []\n",
    "with open(\"inputs/05.txt\") as infile:\n",
    "    for line in infile.readlines():\n",
    "        start, end = line.split(\" -> \")\n",
    "        (x1, y1), (x2, y2) = start.split(\",\"), end.split(\",\")\n",
    "        lines.append((int(x1), int(y1), int(x2), int(y2)))\n"
   ]
  },
  {
   "cell_type": "code",
   "execution_count": 4,
   "metadata": {},
   "outputs": [
    {
     "name": "stdout",
     "output_type": "stream",
     "text": [
      "num_dangerous_fields=5169\n"
     ]
    }
   ],
   "source": [
    "field_size = max(max(p[0], p[2]) for p in lines) + 1, max(max(p[1], p[3]) for p in lines) + 1\n",
    "field = []\n",
    "for row in range(field_size[1] + 1):\n",
    "    field.append([0] * field_size[0])\n",
    "\n",
    "def get_linepoints_hv(x1, y1, x2, y2):\n",
    "    if not (x1 == x2 or y1 == y2):\n",
    "        # only consider horizontal or vertical lines\n",
    "        return\n",
    "    \n",
    "    for x in range(min(x1, x2), max(x1, x2) + 1):\n",
    "        for y in range(min(y1, y2), max(y1, y2) + 1):\n",
    "            yield x, y\n",
    "\n",
    "for l in lines:\n",
    "    for x, y in get_linepoints_hv(*l):\n",
    "        field[y][x] += 1\n",
    "    \n",
    "num_dangerous_fields = sum(1 for row in field for x in row if x >= 2)\n",
    "print(f\"{num_dangerous_fields=}\")"
   ]
  },
  {
   "cell_type": "markdown",
   "metadata": {},
   "source": [
    "# Part Two\n",
    "\n",
    "Unfortunately, considering only horizontal and vertical lines doesn't give you the full picture; you need to also consider diagonal lines.\n",
    "\n",
    "Because of the limits of the hydrothermal vent mapping system, the lines in your list will only ever be horizontal, vertical, or a diagonal line at exactly 45 degrees. In other words:\n",
    "\n",
    "An entry like 1,1 -> 3,3 covers points 1,1, 2,2, and 3,3.\n",
    "An entry like 9,7 -> 7,9 covers points 9,7, 8,8, and 7,9.\n",
    "Considering all lines from the above example would now produce the following diagram:\n",
    "\n",
    "```\n",
    "1.1....11.\n",
    ".111...2..\n",
    "..2.1.111.\n",
    "...1.2.2..\n",
    ".112313211\n",
    "...1.2....\n",
    "..1...1...\n",
    ".1.....1..\n",
    "1.......1.\n",
    "222111....\n",
    "```\n",
    "You still need to determine the number of points where at least two lines overlap. In the above example, this is still anywhere in the diagram with a 2 or larger - now a total of 12 points.\n",
    "\n",
    "Consider all of the lines. At how many points do at least two lines overlap?"
   ]
  },
  {
   "cell_type": "code",
   "execution_count": 9,
   "metadata": {},
   "outputs": [
    {
     "name": "stdout",
     "output_type": "stream",
     "text": [
      "num_dangerous_fields=22083\n"
     ]
    }
   ],
   "source": [
    "field = []\n",
    "for row in range(field_size[1] + 1):\n",
    "    field.append([0] * field_size[0])\n",
    "\n",
    "def get_linepoints_hvd(x1, y1, x2, y2):\n",
    "\n",
    "\n",
    "    if not (x1 == x2 or y1 == y2):\n",
    "        # only need to support 45° diagonal lines\n",
    "\n",
    "        if x1 < x2:\n",
    "            x_points = range(x1, x2 + 1)\n",
    "        else:\n",
    "            x_points = range(x1, x2 - 1, -1)\n",
    "\n",
    "        if y1 < y2:\n",
    "            y_points = range(y1, y2 + 1)\n",
    "        else:\n",
    "            y_points = range(y1, y2 - 1, -1)\n",
    "\n",
    "\n",
    "        for x, y in zip(x_points, y_points):\n",
    "            yield x, y\n",
    "    else:\n",
    "        for x in range(min(x1, x2), max(x1, x2) + 1):\n",
    "            for y in range(min(y1, y2), max(y1, y2) + 1):\n",
    "                yield x, y\n",
    "\n",
    "for l in lines:\n",
    "    for x, y in get_linepoints_hvd(*l):\n",
    "        field[y][x] += 1\n",
    "    \n",
    "num_dangerous_fields = sum(1 for row in field for x in row if x >= 2)\n",
    "print(f\"{num_dangerous_fields=}\")"
   ]
  },
  {
   "cell_type": "code",
   "execution_count": null,
   "metadata": {},
   "outputs": [],
   "source": []
  }
 ],
 "metadata": {
  "interpreter": {
   "hash": "602cc44c720280de6ad960285487576d757069bc0469b06cbaec6e4918638c28"
  },
  "kernelspec": {
   "display_name": "Python 3.10.0 64-bit ('3.10.0': pyenv)",
   "language": "python",
   "name": "python3"
  },
  "language_info": {
   "codemirror_mode": {
    "name": "ipython",
    "version": 3
   },
   "file_extension": ".py",
   "mimetype": "text/x-python",
   "name": "python",
   "nbconvert_exporter": "python",
   "pygments_lexer": "ipython3",
   "version": "3.10.0"
  },
  "orig_nbformat": 4
 },
 "nbformat": 4,
 "nbformat_minor": 2
}
